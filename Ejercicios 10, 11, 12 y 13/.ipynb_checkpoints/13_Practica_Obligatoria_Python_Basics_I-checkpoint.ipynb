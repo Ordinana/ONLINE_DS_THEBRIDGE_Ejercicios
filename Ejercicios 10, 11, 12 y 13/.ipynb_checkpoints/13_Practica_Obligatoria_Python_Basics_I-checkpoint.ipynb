{
 "cells": [
  {
   "cell_type": "markdown",
   "metadata": {
    "id": "BNCAebJANPxq"
   },
   "source": [
    "![TheBridge_logo_RGB_color.jpg](attachment:TheBridge_logo_RGB_color.jpg)"
   ]
  },
  {
   "cell_type": "markdown",
   "metadata": {
    "id": "A9eDZvZaNPxs"
   },
   "source": [
    "![imagen](./img/ejercicios.png)"
   ]
  },
  {
   "cell_type": "markdown",
   "metadata": {
    "id": "59zPhBxXNPxs"
   },
   "source": [
    "## PRACTICA OBLIGATORIA: PYTHON"
   ]
  },
  {
   "cell_type": "markdown",
   "metadata": {
    "id": "mv2kb1GMNPxs"
   },
   "source": [
    "* La práctica obligatoria de esta unidad consiste en dos ejercicios de programación libre a completar.   \n",
    "* Recuerda que debes subirla a tu repositorio personal antes de la sesión en vivo para que puntúe adecuadamente.  \n",
    "* Recuerda también que no es necesario que esté perfecta, sólo es necesario que se vea el esfuerzo.\n",
    "* Esta práctica se resolverá en la sesión en vivo correspondiente y la solución se publicará en el repo del curso."
   ]
  },
  {
   "cell_type": "markdown",
   "metadata": {
    "id": "Kl9JzST2NPxt"
   },
   "source": [
    "![ejercicio.png](./img/ejercicio.png)\n",
    "## PARTE I\n",
    "\n",
    "En este ejercicio debes simular un chatbot al que le haremos pedidos de pizzas.\n",
    "\n",
    "1. El chatbot tiene que saludar con un: \"Buenas tardes, bienvenido al servicio de pedido online, el precio de nuestra pizzas es de 8,95 para la familiar o de 9,90 para la mediana ¿Cuántas pizzas  familiares desea?\"\n",
    "2. El ususario tiene que introducir un número de pizzas en una variable llamada 'pizz_familiar'\n",
    "3. El chatbot debe responder: \"Estupendo, ¿cuántas pizzas medianas desea?\" y guardar el número de pizzas medianas en otra variable 'pizz_mediana'\n",
    "4. Además debe responder del chatbot: \"Estupendo, se están preparando 'pizz' pizzas familiares y 'pizz_mediana' pizzas medianas. Digame su dirección\"\n",
    "5. El ususario tiene que introducir una direccion en formato String en otra variable llamada 'direcc'\n",
    "6. El programa debe calcular el monto total\n",
    "7. Respuesta final del chatbot: \"Le mandaremos las '(número total de pizzas)' pizzas a la dirección 'direcc'. Serán <precio total a pagar en euros>. Muchas gracias por su pedido.\"\n",
    "         \n"
   ]
  },
  {
   "cell_type": "code",
   "execution_count": 1,
   "metadata": {
    "id": "qkKibyt-NPxt"
   },
   "outputs": [
    {
     "name": "stdout",
     "output_type": "stream",
     "text": [
      "Buenas tardes, bienvenido al servicio de pedido online, el precio de nuestra pizzas es de 8,95 para la familiar o de 9,90 para la mediana\n"
     ]
    },
    {
     "name": "stdin",
     "output_type": "stream",
     "text": [
      "¿Cuántas pizzas familiares desea? 1\n",
      "Estupendo, ¿cuántas pizzas medianas desea? 2\n",
      "Estupendo, se están preparando 1 pizzas familiares y 2 pizzas medianas. Digame su dirección calle Jesus 34\n"
     ]
    },
    {
     "name": "stdout",
     "output_type": "stream",
     "text": [
      "Le mandaremos las 3 pizzas a la dirección calle Jesus 34. Serán 28,75 euros. Muchas gracias por su pedido.\n"
     ]
    }
   ],
   "source": [
    "# Bienvenida y solicitud al usuario del número de pizzas a desear\n",
    "print(\"Buenas tardes, bienvenido al servicio de pedido online, \\\n",
    "el precio de nuestra pizzas es de 8,95 para la familiar o de 9,90 para la mediana\")\n",
    "\n",
    "pizz_familiar = int(input(\"¿Cuántas pizzas familiares desea?\"))\n",
    "pizz_mediana = int(input(\"Estupendo, ¿cuántas pizzas medianas desea?\"))\n",
    "\n",
    "# Confirmación y dirección\n",
    "direcc = input(f\"Estupendo, se están preparando {pizz_familiar} pizzas familiares y {pizz_mediana} pizzas medianas. Digame su dirección\")\n",
    "\n",
    "# Calcular monto total y respuesta final\n",
    "total_pizz = pizz_familiar + pizz_mediana\n",
    "monto = pizz_familiar * 8.95 + pizz_mediana * 9.90\n",
    "\n",
    "# Cambiar el punto por la coma para el usuario\n",
    "monto = str(monto)\n",
    "monto = monto.replace(\".\",\",\")\n",
    "\n",
    "print(f\"Le mandaremos las {total_pizz} pizzas a la dirección {direcc}. Serán {monto} euros. Muchas gracias por su pedido.\")"
   ]
  },
  {
   "cell_type": "markdown",
   "metadata": {
    "id": "f0oqoGDGNPxt"
   },
   "source": [
    "![ejercicio.png](./img/ejercicio.png)\n",
    "## Parte II\n",
    "\n",
    "Crea un programa que realice las siguientes acciones:\n",
    "\n",
    "1. Solicite al usuario que introduzca 3 números enteros separados por comas (por ejemplo: 1,2,3).\n",
    "2. Convierta esa entrada en una lista de números enteros.\n",
    "3. Utilizando funciones built-in, determine el número máximo, el número mínimo y la suma total de los números introducidos.\n",
    "4. Determine la verdad o falsedad de la siguiente afirmación: \"El número máximo menos el número mínimo es igual a la suma total dividida por 5\".\n",
    "5. Muestre los resultados utilizando print."
   ]
  },
  {
   "cell_type": "code",
   "execution_count": 6,
   "metadata": {},
   "outputs": [
    {
     "name": "stdin",
     "output_type": "stream",
     "text": [
      "Introduzca 3 números enteros separados entre ellos por comas:  10,5,5\n"
     ]
    },
    {
     "name": "stdout",
     "output_type": "stream",
     "text": [
      "[10, 5, 5]\n",
      "<class 'list'>\n",
      "El número más alto : 10\n",
      "El número más bajo : 5\n",
      "La suma total:  20\n",
      "El número máximo menos el número mínimo es igual a la suma total dividida por 5:  False\n"
     ]
    }
   ],
   "source": [
    "# Solicitud al usuario\n",
    "numeros = input(\"Introduzca 3 números enteros separados entre ellos por comas: \")\n",
    "\n",
    "# Convertir a una lista\n",
    "lista_numeros = [int(num) for num in numeros.split(',')]\n",
    "print(lista_numeros)\n",
    "print(type(lista_numeros))\n",
    "\n",
    "# Funciones Built-in\n",
    "numero_mayor = max(lista_numeros)\n",
    "print(\"El número más alto :\",numero_mayor)\n",
    "\n",
    "numero_menor = min(lista_numeros)\n",
    "print(\"El número más bajo :\",numero_menor)\n",
    "\n",
    "suma = sum(lista_numeros)\n",
    "print(\"La suma total: \",suma)\n",
    "\n",
    "# Verdad o Falsedad\n",
    "print(\"El número máximo menos el número mínimo es igual a la suma total dividida por 5: \",(numero_mayor - numero_menor) == (suma / 5))"
   ]
  }
 ],
 "metadata": {
  "colab": {
   "provenance": []
  },
  "kernelspec": {
   "display_name": "Python 3 (ipykernel)",
   "language": "python",
   "name": "python3"
  },
  "language_info": {
   "codemirror_mode": {
    "name": "ipython",
    "version": 3
   },
   "file_extension": ".py",
   "mimetype": "text/x-python",
   "name": "python",
   "nbconvert_exporter": "python",
   "pygments_lexer": "ipython3",
   "version": "3.12.5"
  }
 },
 "nbformat": 4,
 "nbformat_minor": 4
}
