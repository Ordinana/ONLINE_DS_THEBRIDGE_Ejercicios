{
 "cells": [
  {
   "cell_type": "code",
   "execution_count": 1,
   "id": "0f6bd567-1523-46f5-97b5-d74fc4c12527",
   "metadata": {},
   "outputs": [
    {
     "name": "stdout",
     "output_type": "stream",
     "text": [
      "Hola Mundo\n"
     ]
    }
   ],
   "source": [
    "print(\"Hola Mundo\")"
   ]
  },
  {
   "cell_type": "markdown",
   "id": "f04fa1c8-ae0a-4e27-bb27-a37f2276ceff",
   "metadata": {},
   "source": [
    "Hola Mundo!"
   ]
  },
  {
   "cell_type": "raw",
   "id": "46fd0f79-9e6d-4b8f-8fcb-daf7099d9a6f",
   "metadata": {},
   "source": [
    "Hola Mundooo!"
   ]
  },
  {
   "cell_type": "code",
   "execution_count": null,
   "id": "24c3fbe1-9764-4fd3-9c6e-1171fc147dfc",
   "metadata": {},
   "outputs": [],
   "source": []
  }
 ],
 "metadata": {
  "kernelspec": {
   "display_name": "Python 3 (ipykernel)",
   "language": "python",
   "name": "python3"
  },
  "language_info": {
   "codemirror_mode": {
    "name": "ipython",
    "version": 3
   },
   "file_extension": ".py",
   "mimetype": "text/x-python",
   "name": "python",
   "nbconvert_exporter": "python",
   "pygments_lexer": "ipython3",
   "version": "3.12.5"
  }
 },
 "nbformat": 4,
 "nbformat_minor": 5
}
