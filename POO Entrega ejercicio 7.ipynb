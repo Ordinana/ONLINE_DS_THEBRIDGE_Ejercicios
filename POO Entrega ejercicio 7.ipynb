{
 "cells": [
  {
   "cell_type": "markdown",
   "metadata": {
    "id": "vigJnuAMSU4x"
   },
   "source": [
    "![TheBridge_logo_RGB_color.jpg](attachment:TheBridge_logo_RGB_color.jpg)"
   ]
  },
  {
   "cell_type": "markdown",
   "metadata": {
    "id": "2xmnwM17SU4y"
   },
   "source": [
    "![ejercicios.png](attachment:ejercicios.png)"
   ]
  },
  {
   "cell_type": "markdown",
   "metadata": {
    "id": "liorA-1ZSU4y"
   },
   "source": [
    "# Ejercicios Clases y Objetos"
   ]
  },
  {
   "cell_type": "markdown",
   "metadata": {
    "id": "5xXUz5l9SU4z"
   },
   "source": [
    "## Ejercicio 1\n",
    "Somos una empresa que tiene varias tiendas de electrodomesticos. Necesitamos un programa para manejar las tiendas, ver las ventas que han tenido, cuántos empleados hay, etc... Para ello vamos a modelizar la tienda en una clase, que tendrá las siguientes características:\n",
    "* Nombre clase: \"Tienda\"\n",
    "* Atributos comunes:\n",
    "    * Tipo: \"Electrodomésticos\"\n",
    "    * Abierta: True\n",
    "* Atributos propios de cada tienda:\n",
    "    * Nombre - String\n",
    "    * Dirección - String\n",
    "    * Número de empleados - int\n",
    "    * Ventas ultimos 3 meses - Lista de 3 numeros\n",
    "* Método para calcular las ventas de todos los meses, que devuelva un numero con todas las ventas.\n",
    "* Método que calcula la media de ventas de los ultimos meses, por empleado\n",
    "* Método que devuelve en un string el nombre de la tienda, junto con su dirección.\n",
    "* Método que obtiene las ventas del último mes.\n",
    "* Método para dar una proyección de las ventas en caso de haber invertido X dinero en marketing en esa tienda. Siendo X el parámetro de entrada. Si X es menor de 1000, las ventas de los ultimos 3 meses hubiesen sido de (1.2 x ventas), si es mayor o igual de 1000, las ventas hubiesen sido de (1.5 x venta). El método reescribe el atributo de ventas en los últimos 3 meses, y además devuelve las ventas con el aumento.\n",
    "\n",
    "Se pide:\n",
    "1. Implementar la clase \"Tienda\"\n",
    "2. Crear tres tiendas con datos inventados\n",
    "3. Comprueba en al menos una de ellas, todo lo implementado en la clase tienda (sus atributos, media de ventas, ventas/empleado...)\n",
    "3. Calcular las ventas del último mes de todas las tiendas. Para ello usa el bucle `for`\n",
    "4. Imprime por pantalla los nombres de las tiendas cuya dirección lleve el string \"Avenida\"\n",
    "5. Seguro que ya has hecho este apartado... Documenta la clase :)"
   ]
  },
  {
   "cell_type": "code",
   "execution_count": 159,
   "metadata": {
    "id": "5cLQcLxfSU4z"
   },
   "outputs": [],
   "source": [
    "class Tienda:\n",
    "    tiendas = [] # Variable donde se almacenarán los datos de las tiendas\n",
    "    \n",
    "    def __init__(self, nombre, direccion, empleados, ventas, tipo = \"Electrodomésticos\", abierta = True): # Constructor\n",
    "        self.tipo = tipo\n",
    "        self.abierta = abierta\n",
    "        self.nombre = str(nombre)\n",
    "        self.direccion = str(direccion)\n",
    "        self.empleados = int(empleados)\n",
    "        self.ventas = ventas   \n",
    "\n",
    "    def mostrar_datos(self): # Aquí se mostrarán los datos de la nueva tienda ingresada y se añadiran a la variable tiendas\n",
    "        datos_tienda = {}\n",
    "        \n",
    "        print(\"Tipo:\", self.tipo)\n",
    "        print(\"Abierta:\", self.abierta)\n",
    "        print(\"Nombre:\", self.nombre)\n",
    "        print(\"Dirección:\", self.direccion)\n",
    "        print(\"Nº Empleados:\", self.empleados)\n",
    "        print(\"Ventas:\", self.ventas)\n",
    "        \n",
    "        # Guardar los datos de la nueva tienda registrada\n",
    "        datos_tienda[\"Nombre\"] = self.nombre\n",
    "        datos_tienda[\"Dirección\"] = self.direccion\n",
    "        datos_tienda[\"Empleados\"] = self.empleados\n",
    "        datos_tienda[\"Ventas\"] = self.ventas\n",
    "        Tienda.tiendas.append(datos_tienda) # Datos de la nueva tienda almacenados!\n",
    "\n",
    "    def calculo_ventas_total(self): \n",
    "        ventas_total = sum(self.ventas)\n",
    "        print(ventas_total,\"eur\")\n",
    "\n",
    "    def media_ventas_empleado(self):\n",
    "        media_ventas = sum(self.ventas) / self.empleados\n",
    "        print(media_ventas,\"euros mensuales por empleado\")\n",
    "\n",
    "    def nombre_direccion(self):\n",
    "        print(self.nombre,\",\", self.direccion)\n",
    "\n",
    "    def ventas_ultimo(self):\n",
    "        print(self.ventas[-1],\"eur\")\n",
    "\n",
    "    def proyeccion(self, inversion):\n",
    "        aumento = []\n",
    "        for mes in self.ventas:\n",
    "            if inversion < 1000:\n",
    "                mes = mes * 1.2\n",
    "                aumento.append(mes)\n",
    "            elif inversion >= 1000:\n",
    "                mes = mes * 1.5\n",
    "                aumento.append(mes)\n",
    "                \n",
    "        self.ventas = aumento\n",
    "        print(\"Ventas mensuales posterior a la inversión :\", self.ventas)\n",
    "        "
   ]
  },
  {
   "cell_type": "code",
   "execution_count": 160,
   "metadata": {},
   "outputs": [
    {
     "name": "stdout",
     "output_type": "stream",
     "text": [
      "---> Mostramos los datos de la tienda: \n",
      "Tipo: Electrodomésticos\n",
      "Abierta: True\n",
      "Nombre: Tienda Nº 1\n",
      "Dirección: Avenida Constitución\n",
      "Nº Empleados: 6\n",
      "Ventas: [10000, 50000, 1800]\n",
      "\n",
      "---> Ventas total: \n",
      "61800 eur\n",
      "\n",
      "---> Media de ventas por empleado :\n",
      "10300.0 euros mensuales por empleado\n",
      "\n",
      "---> Nombre y dirección de la tienda\n",
      "Tienda Nº 1 , Avenida Constitución\n",
      "\n",
      "--->Las ventas del último mes son: \n",
      "1800 eur\n",
      "\n",
      "---> Proyeccion de las ventas con la inversion: \n",
      "Ventas mensuales posterior a la inversión : [12000.0, 60000.0, 2160.0]\n",
      "<------------------------------------------------------------------------------------------->\n",
      "\n",
      "---> Mostramos los datos de la tienda: \n",
      "Tipo: Electrodomésticos\n",
      "Abierta: True\n",
      "Nombre: Tienda Nº 2\n",
      "Dirección: Calle Buen Retiro\n",
      "Nº Empleados: 10\n",
      "Ventas: [50000, 20000, 10800]\n",
      "\n",
      "---> Ventas total: \n",
      "80800 eur\n",
      "\n",
      "---> Media de ventas por empleado :\n",
      "8080.0 euros mensuales por empleado\n",
      "\n",
      "---> Nombre y dirección de la tienda\n",
      "Tienda Nº 2 , Calle Buen Retiro\n",
      "\n",
      "--->Las ventas del último mes son: \n",
      "10800 eur\n",
      "\n",
      "---> Proyeccion de las ventas con la inversion: \n",
      "Ventas mensuales posterior a la inversión : [75000.0, 30000.0, 16200.0]\n",
      "<------------------------------------------------------------------------------------------->\n",
      "\n",
      "---> Mostramos los datos de la tienda: \n",
      "Tipo: Electrodomésticos\n",
      "Abierta: True\n",
      "Nombre: Tienda Nº 3\n",
      "Dirección: Avenida Archiduque Carlos\n",
      "Nº Empleados: 7\n",
      "Ventas: [2100, 30000, 2800]\n",
      "\n",
      "---> Ventas total: \n",
      "34900 eur\n",
      "\n",
      "---> Media de ventas por empleado :\n",
      "4985.714285714285 euros mensuales por empleado\n",
      "\n",
      "---> Nombre y dirección de la tienda\n",
      "Tienda Nº 3 , Avenida Archiduque Carlos\n",
      "\n",
      "--->Las ventas del último mes son: \n",
      "2800 eur\n",
      "\n",
      "---> Proyeccion de las ventas con la inversion: \n",
      "Ventas mensuales posterior a la inversión : [3150.0, 45000.0, 4200.0]\n",
      "<------------------------------------------------------------------------------------------->\n",
      "\n",
      "{'Nombre': 'Tienda Nº 1', 'Dirección': 'Avenida Constitución', 'Empleados': 6, 'Ventas': [10000, 50000, 1800]}\n",
      "{'Nombre': 'Tienda Nº 2', 'Dirección': 'Calle Buen Retiro', 'Empleados': 10, 'Ventas': [50000, 20000, 10800]}\n",
      "{'Nombre': 'Tienda Nº 3', 'Dirección': 'Avenida Archiduque Carlos', 'Empleados': 7, 'Ventas': [2100, 30000, 2800]}\n",
      "<------------------------------------------------------------------------------------------->\n",
      "\n",
      "El total de ventas en el ultimo mes de todas las tiendas es de:  15400\n",
      "<------------------------------------------------------------------------------------------->\n",
      "\n",
      "Avenida Constitución , dirección de: Tienda Nº 1\n",
      "Avenida Archiduque Carlos , dirección de: Tienda Nº 3\n"
     ]
    }
   ],
   "source": [
    "# TIENDA 1 ----------------------------------------------------------------------------------------\n",
    "tienda_1 = Tienda(\"Tienda Nº 1\", \"Avenida Constitución\", 6, [10000, 50000, 1800])\n",
    "print(\"---> Mostramos los datos de la tienda: \")\n",
    "tienda_1.mostrar_datos()\n",
    "print(\"\\n---> Ventas total: \")\n",
    "tienda_1.calculo_ventas_total()\n",
    "print(\"\\n---> Media de ventas por empleado :\")\n",
    "tienda_1.media_ventas_empleado()\n",
    "print(\"\\n---> Nombre y dirección de la tienda\")\n",
    "tienda_1.nombre_direccion()\n",
    "print(\"\\n--->Las ventas del último mes son: \")\n",
    "tienda_1.ventas_ultimo()\n",
    "print(\"\\n---> Proyeccion de las ventas con la inversion: \")\n",
    "tienda_1.proyeccion(750)\n",
    "print(\"<------------------------------------------------------------------------------------------->\\n\")\n",
    "\n",
    "# TIENDA 2 ----------------------------------------------------------------------------------------\n",
    "tienda_2 = Tienda(\"Tienda Nº 2\", \"Calle Buen Retiro\", 10, [50000, 20000, 10800])\n",
    "print(\"---> Mostramos los datos de la tienda: \")\n",
    "tienda_2.mostrar_datos()\n",
    "print(\"\\n---> Ventas total: \")\n",
    "tienda_2.calculo_ventas_total()\n",
    "print(\"\\n---> Media de ventas por empleado :\")\n",
    "tienda_2.media_ventas_empleado()\n",
    "print(\"\\n---> Nombre y dirección de la tienda\")\n",
    "tienda_2.nombre_direccion()\n",
    "print(\"\\n--->Las ventas del último mes son: \")\n",
    "tienda_2.ventas_ultimo()\n",
    "print(\"\\n---> Proyeccion de las ventas con la inversion: \")\n",
    "tienda_2.proyeccion(1055)\n",
    "\n",
    "print(\"<------------------------------------------------------------------------------------------->\\n\")\n",
    "# TIENDA 3 ----------------------------------------------------------------------------------------\n",
    "tienda_3 = Tienda(\"Tienda Nº 3\", \"Avenida Archiduque Carlos\", 7, [2100, 30000, 2800])\n",
    "print(\"---> Mostramos los datos de la tienda: \")\n",
    "tienda_3.mostrar_datos()\n",
    "print(\"\\n---> Ventas total: \")\n",
    "tienda_3.calculo_ventas_total()\n",
    "print(\"\\n---> Media de ventas por empleado :\")\n",
    "tienda_3.media_ventas_empleado()\n",
    "print(\"\\n---> Nombre y dirección de la tienda\")\n",
    "tienda_3.nombre_direccion()\n",
    "print(\"\\n--->Las ventas del último mes son: \")\n",
    "tienda_3.ventas_ultimo()\n",
    "print(\"\\n---> Proyeccion de las ventas con la inversion: \")\n",
    "tienda_3.proyeccion(2000)\n",
    "\n",
    "print(\"<------------------------------------------------------------------------------------------->\\n\")\n",
    "# Mostrar todas las tiendas almacenadas\n",
    "for tienda in Tienda.tiendas:\n",
    "    print(tienda)\n",
    "\n",
    "print(\"<------------------------------------------------------------------------------------------->\\n\")\n",
    "# Calcular las ventas del último mes de todas las tiendas.\n",
    "total_mes = 0\n",
    "for tienda in Tienda.tiendas:\n",
    "    total_mes += tienda[\"Ventas\"][-1]\n",
    "print(\"El total de ventas en el ultimo mes de todas las tiendas es de: \",total_mes)\n",
    "\n",
    "print(\"<------------------------------------------------------------------------------------------->\\n\")\n",
    "# Imprime por pantalla los nombres de las tiendas cuya dirección lleve el string \"Avenida\"\n",
    "for tienda in Tienda.tiendas:\n",
    "    if \"Avenida\" in tienda[\"Dirección\"]:\n",
    "        print(tienda[\"Dirección\"], \", dirección de:\", tienda[\"Nombre\"])\n",
    "    else:\n",
    "        None"
   ]
  },
  {
   "cell_type": "markdown",
   "metadata": {
    "id": "WEBq7EpsSU40"
   },
   "source": [
    "## Ejercicio 2\n",
    "En este ejercicio vamos a implementar una clase *Perro* en Python. La clase tiene las siguientes características:\n",
    "* Cosas que sabemos seguro que tiene un perro\n",
    "    * Tiene 4 patas\n",
    "    * 2 orejas\n",
    "    * 2 ojos\n",
    "    * Una velocidad de 0. Por defecto, el perro está parado\n",
    "* Cuando se inicialice:\n",
    "    * El perro será de una determinada raza\n",
    "    * Por defecto tendrá pelo \"Marrón\", a no ser que se diga lo contrario.\n",
    "    * Por defecto no tendrá dueño, a no ser que se diga lo contrario.\n",
    "    \n",
    "* Dispondrá también de un método llamado andar, que tiene un argumento de entrada (aumento_velocidad). Este valor se le sumará a la velocidad que ya llevaba el perro.\n",
    "* Necesita otro método (parar), donde pondremos la velocidad a 0.\n",
    "* Otro método llamado \"ladrar\", que tendrá un argumento de entrada, y la salida será el siguiente string: \"GUAU!\" + el argumento de entrada.\n",
    "\n",
    "\n",
    "Se pide:\n",
    "* Implementa la clase *Perro*\n",
    "* Crea un objeto de tipo *Perro*, sin dueño\n",
    "* Comprueba que están bien todos sus atributos\n",
    "* Prueba que ande, y comprueba su velocidad\n",
    "* Páralo\n",
    "* Documenta la clase *Perro*"
   ]
  },
  {
   "cell_type": "code",
   "execution_count": 231,
   "metadata": {
    "id": "DpEWvbwGSU40"
   },
   "outputs": [],
   "source": [
    "class Perro:\n",
    "    # Crearemos un constructor con argumentos posicionales ya definidos para los atributos seguros para un perro, \n",
    "    # los dos ultimos (pelo y dueño) podrán modificarse en los argumentos cuando se declare el objeto perro.\n",
    "    # El argumento Raza es el único que sí a de pasarse obligatorio al declarar el objeto.\n",
    "    def __init__(self, raza, patas = 4, orejas = 2, ojos = 2, velocidad = 0, pelo = \"marrón\", dueño = False):\n",
    "        self.patas = int(patas)\n",
    "        self.orejas = int(orejas)\n",
    "        self.ojos = int(ojos)\n",
    "        self.velocidad = int(velocidad)\n",
    "        self.raza = str(raza)\n",
    "        self.pelo = str(pelo)\n",
    "        self.dueño = dueño\n",
    "\n",
    "    def mostrar_datos(self): # Comprobamos todos sus atributos\n",
    "        print(self.raza)\n",
    "        print(self.patas,\"patas\")\n",
    "        print(self.orejas,\"orejas\") \n",
    "        print(self.ojos,\"ojos\")\n",
    "        print(\"de pelo\",self.pelo)\n",
    "        print(\"y\", \"con dueño\" if self.dueño else \"sin dueño\")\n",
    "\n",
    "    def andar(self, aumento_velocidad): # Metodo andar donde extiendo el código con la informacion de la velocidad pasada a kilómetros\n",
    "        self.velocidad = self.velocidad + aumento_velocidad\n",
    "        if self.velocidad > 15:\n",
    "            print(\"¡El\", self.raza, \"está corriendo a\", self.velocidad, \"kms por hora!\")\n",
    "        else:\n",
    "            print(\"El\", self.raza, \"está andando a\", self.velocidad, \"kms por hora\")\n",
    "\n",
    "    def parar(self): # Se reinicia la velocidad a 0\n",
    "        self.velocidad = 0\n",
    "        return print(\"El\", self.raza, \"está parado\")\n",
    "\n",
    "    def ladrar(self): # Devuelve mensaje de que el perro a ladrado\n",
    "        print(\"GUAU!\\nA ladrado el\", self.raza)\n"
   ]
  },
  {
   "cell_type": "code",
   "execution_count": 232,
   "metadata": {},
   "outputs": [
    {
     "name": "stdout",
     "output_type": "stream",
     "text": [
      "Carlino\n",
      "4 patas\n",
      "2 orejas\n",
      "2 ojos\n",
      "de pelo marrón\n",
      "y con dueño\n"
     ]
    }
   ],
   "source": [
    "carlino = Perro(\"Carlino\", dueño = True)\n",
    "carlino.mostrar_datos()"
   ]
  },
  {
   "cell_type": "code",
   "execution_count": 233,
   "metadata": {},
   "outputs": [
    {
     "name": "stdout",
     "output_type": "stream",
     "text": [
      "El Carlino está andando a 5 kms por hora\n"
     ]
    }
   ],
   "source": [
    "carlino.andar(5)"
   ]
  },
  {
   "cell_type": "code",
   "execution_count": 234,
   "metadata": {},
   "outputs": [
    {
     "name": "stdout",
     "output_type": "stream",
     "text": [
      "El Carlino está parado\n"
     ]
    }
   ],
   "source": [
    "carlino.parar()"
   ]
  },
  {
   "cell_type": "code",
   "execution_count": 235,
   "metadata": {},
   "outputs": [
    {
     "name": "stdout",
     "output_type": "stream",
     "text": [
      "GUAU!\n",
      "A ladrado el Carlino\n"
     ]
    }
   ],
   "source": [
    "# Compruebo el ladrido\n",
    "carlino.ladrar()"
   ]
  }
 ],
 "metadata": {
  "colab": {
   "provenance": []
  },
  "kernelspec": {
   "display_name": "Python 3 (ipykernel)",
   "language": "python",
   "name": "python3"
  },
  "language_info": {
   "codemirror_mode": {
    "name": "ipython",
    "version": 3
   },
   "file_extension": ".py",
   "mimetype": "text/x-python",
   "name": "python",
   "nbconvert_exporter": "python",
   "pygments_lexer": "ipython3",
   "version": "3.12.5"
  }
 },
 "nbformat": 4,
 "nbformat_minor": 4
}
