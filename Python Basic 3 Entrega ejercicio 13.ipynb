{
 "cells": [
  {
   "cell_type": "markdown",
   "metadata": {
    "id": "9l3HMgm6RWxF"
   },
   "source": [
    "![TheBridge_logo_RGB_color.jpg](attachment:TheBridge_logo_RGB_color.jpg)"
   ]
  },
  {
   "cell_type": "markdown",
   "metadata": {
    "id": "RGg9iWpoRWxG"
   },
   "source": [
    "![ejercicios.png](attachment:ejercicios.png)"
   ]
  },
  {
   "cell_type": "markdown",
   "metadata": {
    "id": "AyOlWS2nRWxH"
   },
   "source": [
    "## PRACTICA OBLIGATORIA: COLECCIONES Y FUNCIONES"
   ]
  },
  {
   "cell_type": "markdown",
   "metadata": {
    "id": "6UOgb0KVRWxH"
   },
   "source": [
    "* La práctica obligatoria de esta unidad consiste varios ejercicios de programación libre a completar sobre Colecciones y Funciones. Descarga este notebook en tu ordenador y trabaja en local.  \n",
    "* Recuerda que debes subirla a tu repositorio personal antes de la sesión en vivo para que puntúe adecuadamente y puedas participar en dicha sesión.  \n",
    "* Recuerda también que no es necesario que esté perfecta, sólo es necesario que se vea el esfuerzo.\n",
    "* Esta práctica se resolverá en la sesión en vivo correspondiente y la solución se publicará en el repo del curso."
   ]
  },
  {
   "cell_type": "markdown",
   "metadata": {
    "id": "j3yu-tEjRWxH"
   },
   "source": [
    "### Contenidos"
   ]
  },
  {
   "cell_type": "markdown",
   "metadata": {
    "id": "kO-fLH39RWxH"
   },
   "source": [
    "## Ejercicio 1\n",
    "Eleva todos los elementos de la lista al cuadrado\n",
    "> ```ejer_2 = [1,2,3,4,5]```"
   ]
  },
  {
   "cell_type": "code",
   "execution_count": 3,
   "metadata": {
    "id": "ks5l3yi7RWxH"
   },
   "outputs": [
    {
     "name": "stdout",
     "output_type": "stream",
     "text": [
      "Números elevados\n"
     ]
    },
    {
     "data": {
      "text/plain": [
       "[1, 4, 9, 16, 25]"
      ]
     },
     "execution_count": 3,
     "metadata": {},
     "output_type": "execute_result"
    }
   ],
   "source": [
    "def elevar(lista):\n",
    "    elevados = []\n",
    "    for num in lista:\n",
    "        num = num ** 2\n",
    "        elevados.append(num)\n",
    "    print(\"Números elevados\")\n",
    "    return elevados\n",
    "\n",
    "elevar([1,2,3,4,5])       "
   ]
  },
  {
   "cell_type": "markdown",
   "metadata": {
    "id": "kI_Xr5oFRWxI"
   },
   "source": [
    "## Ejercicio 2\n",
    "Haz un programa que detecte todos los duplicados de un elemento en una lista:\n",
    "* Utiliza una variable duplicado para asignarle el valor del elemento del que queremos encontrar todos sus duplicados.\n",
    "* El programa debe devolver todos los índices de los elementos duplicados.\n",
    "* Aplícalo para encontrar los duplicados de \"un\", \"es\" y \"binario\" de:  \n",
    "\n",
    ">```ejer_3 = [\"Un\", \"árbol\", \"binario\", \"es\", \"una\", \"estructura\", \"de\", \"un\", \"tipo\", \"particular\", \"a\", \"veces\", \"no\", \"es\", \"ni\", \"binario\"]```\n"
   ]
  },
  {
   "cell_type": "code",
   "execution_count": 50,
   "metadata": {
    "id": "cLY9WB7YRWxI"
   },
   "outputs": [
    {
     "name": "stdout",
     "output_type": "stream",
     "text": [
      "En el índice 0 está la palabra duplicada: Un\n",
      "En el índice 2 está la palabra duplicada: binario\n",
      "En el índice 3 está la palabra duplicada: es\n",
      "En el índice 7 está la palabra duplicada: un\n",
      "En el índice 13 está la palabra duplicada: es\n",
      "En el índice 15 está la palabra duplicada: binario\n"
     ]
    }
   ],
   "source": [
    "ejer_3 = [\"Un\", \"árbol\", \"binario\", \"es\", \"una\", \"estructura\", \"de\", \"un\", \"tipo\", \"particular\", \"a\", \"veces\", \"no\", \"es\", \"ni\", \"binario\"]\n",
    "duplicados = [\"Un\", \"es\", \"binario\"]\n",
    "\n",
    "def lista_duplicados(duplicados, ejer_3):\n",
    "    lista = []\n",
    "    for i, palabra in enumerate(ejer_3):\n",
    "        for dup in duplicados:\n",
    "            if palabra.lower() == dup.lower():\n",
    "                lista.append(f\"En el índice {i} está la palabra duplicada: {palabra}\")\n",
    "    return lista\n",
    "        \n",
    "lista = lista_duplicados(duplicados, ejer_3)\n",
    "\n",
    "for i in lista:\n",
    "    print(i)"
   ]
  },
  {
   "cell_type": "markdown",
   "metadata": {
    "id": "3WrBd5QaRWxI"
   },
   "source": [
    "## Ejercicio 3\n",
    "1. ¿Cuántas veces se repite el 3 en la siguiente tupla?\n",
    "2. Crea una tupla nueva con los elementos desde la posicion 5 a la 10.\n",
    "3. ¿Cuántos elementos tiene la tupla `ejer_3`?\n",
    "> ```ejer_9 = (3, 20, 3, 47, 19, 3, 29, 45, 67, 78, 90, 3, 3, 5, 2, 4, 7, 9, 4, 2, 4, 3, 3, 4, 6, 7)```"
   ]
  },
  {
   "cell_type": "code",
   "execution_count": 64,
   "metadata": {
    "id": "bkv_R5LYRWxI"
   },
   "outputs": [
    {
     "name": "stdout",
     "output_type": "stream",
     "text": [
      "El número 3 se repite 7 veces\n",
      "Tupla nueva con los elementos desde la posicion 5 hasta la 10: (3, 29, 45, 67, 78, 90)\n",
      "La tupla del ejerc_3 tiene 16 elementos\n",
      "Y la tupla del ejerc_9 tiene 26 elementos\n"
     ]
    }
   ],
   "source": [
    "ejer_9 = (3, 20, 3, 47, 19, 3, 29, 45, 67, 78, 90, 3, 3, 5, 2, 4, 7, 9, 4, 2, 4, 3, 3, 4, 6, 7)\n",
    "contador = 0\n",
    "\n",
    "for num in ejer_9:\n",
    "    if num == 3:\n",
    "        contador += 1\n",
    "    else:\n",
    "        continue\n",
    "        \n",
    "print(f\"El número 3 se repite {contador} veces\")\n",
    "\n",
    "tupla_nueva = ejer_9[5:11]\n",
    "print(\"Tupla nueva con los elementos desde la posicion 5 hasta la 10:\",tupla_nueva)\n",
    "print(\"La tupla del ejerc_3 tiene\", len(ejer_3), \"elementos\")\n",
    "print(\"Y la tupla del ejerc_9 tiene\", len(ejer_9), \"elementos\")"
   ]
  },
  {
   "cell_type": "markdown",
   "metadata": {
    "id": "6g8Y54AeRWxI"
   },
   "source": [
    "## Ejercicio 4\n",
    "Comprueba si el numero 60 esta en la tupla del ejercicio 3"
   ]
  },
  {
   "cell_type": "code",
   "execution_count": 76,
   "metadata": {
    "id": "F8VTEZonRWxI"
   },
   "outputs": [
    {
     "name": "stdout",
     "output_type": "stream",
     "text": [
      "El numero 60 no se encuentra en la tupla\n"
     ]
    }
   ],
   "source": [
    "for num in ejer_3:\n",
    "    if num == 60:\n",
    "        comprobacion = \"Si, el numero 60 existe en la tupla\"\n",
    "    else:\n",
    "        comprobacion = \"El numero 60 no se encuentra en la tupla\"\n",
    "        \n",
    "print(comprobacion)"
   ]
  },
  {
   "cell_type": "markdown",
   "metadata": {
    "id": "y0fg-ZA6RWxI"
   },
   "source": [
    "## Ejercicio 5\n",
    "1. Convierte la tupla del ejercicio 3 en una lista\n",
    "2. Convierte la tupla del ejercicio 3 en un set\n",
    "3. Convierte la tupla del ejercicio 3 en un diccionario. Usa también los indices"
   ]
  },
  {
   "cell_type": "code",
   "execution_count": 86,
   "metadata": {
    "id": "_O5hXr01RWxI"
   },
   "outputs": [
    {
     "name": "stdout",
     "output_type": "stream",
     "text": [
      "<class 'list'>\n",
      "<class 'set'>\n",
      "<class 'dict'>\n",
      "{0: 3, 1: 20, 2: 3, 3: 47, 4: 19, 5: 3, 6: 29, 7: 45, 8: 67, 9: 78, 10: 90, 11: 3, 12: 3, 13: 5, 14: 2, 15: 4, 16: 7, 17: 9, 18: 4, 19: 2, 20: 4, 21: 3, 22: 3, 23: 4, 24: 6, 25: 7}\n"
     ]
    }
   ],
   "source": [
    "ejer_9 = (3, 20, 3, 47, 19, 3, 29, 45, 67, 78, 90, 3, 3, 5, 2, 4, 7, 9, 4, 2, 4, 3, 3, 4, 6, 7)\n",
    "\n",
    "lista = list(ejer_9)\n",
    "print(type(lista))\n",
    "\n",
    "set1 = set(ejer_9)\n",
    "print(type(set1))\n",
    "\n",
    "dicc = {}\n",
    "for i, num in enumerate(ejer_9):\n",
    "    dicc[i] = num\n",
    "print(type(dicc))\n",
    "print(dicc)"
   ]
  },
  {
   "cell_type": "markdown",
   "metadata": {
    "id": "eOdWWbxvRWxJ"
   },
   "source": [
    "## Ejercicio 6\n",
    "Multiplica todos los valores del diccionario\n",
    "> ```ejer_6 = {1: 11, 2: 22, 3: 33, 4: 44, 5: 55}```"
   ]
  },
  {
   "cell_type": "code",
   "execution_count": 91,
   "metadata": {
    "id": "KcuByovKRWxJ"
   },
   "outputs": [
    {
     "name": "stdout",
     "output_type": "stream",
     "text": [
      "19326120\n"
     ]
    }
   ],
   "source": [
    "ejer_6 = {1: 11, 2: 22, 3: 33, 4: 44, 5: 55}\n",
    "resultado = 1\n",
    "\n",
    "for v in ejer_6.values():\n",
    "    resultado = resultado * v\n",
    "\n",
    "print(resultado)"
   ]
  },
  {
   "cell_type": "markdown",
   "metadata": {
    "id": "W7TUSaKRRWxJ"
   },
   "source": [
    "## Ejercicio 7\n",
    "\n",
    "1. Crea un diccionario que describa un libro, con los siguientes campos o claves: \"titulo\",\"autor\",\"idioma original\",\"año de publicación\".\n",
    "2. Crea un a lista, llamada librería.\n",
    "3. Añade cuatro libros a tu elección a la librería."
   ]
  },
  {
   "cell_type": "code",
   "execution_count": 157,
   "metadata": {
    "id": "d-IMRvxRRWxJ",
    "vscode": {
     "languageId": "plaintext"
    }
   },
   "outputs": [
    {
     "name": "stdout",
     "output_type": "stream",
     "text": [
      "[{'Título': 'El niño de pijama de rayas', 'Idioma Original': 'English', 'Año de publicación': 2007}, {'Título': 'Padre rico, padre pobre', 'Idioma Original': 'English', 'Año de publicación': 1997}, {'Título': 'El camino del encuentro', 'Idioma Original': 'Español', 'Año de publicación': 2001}, {'Título': 'El dolar', 'Autor': 'Michel Aglietta', 'Idioma Original': 'English', 'Año de publicación': 2015}]\n"
     ]
    }
   ],
   "source": [
    "libro = {\"Título\": \"El dolar\", \"Autor\": \"Michel Aglietta\", \"Idioma Original\": \"English\", \"Año de publicación\": 2015}\n",
    "\n",
    "libreria = []\n",
    "\n",
    "libros_eleccion = [{\"Título\": \"El niño de pijama de rayas\", \"Idioma Original\": \"English\", \"Año de publicación\": 2007},\\\n",
    "{\"Título\": \"Padre rico, padre pobre\", \"Idioma Original\": \"English\", \"Año de publicación\": 1997},\\\n",
    "{\"Título\": \"El camino del encuentro\", \"Idioma Original\": \"Español\", \"Año de publicación\": 2001}]\n",
    "\n",
    "libros_eleccion.append(libro)\n",
    "\n",
    "libreria = libros_eleccion\n",
    "print(libreria)"
   ]
  },
  {
   "cell_type": "markdown",
   "metadata": {
    "id": "glMoedjYRWxJ"
   },
   "source": [
    "## Ejercicio 8\n",
    "Modifica los valores del idioma de todos los libros del ejercicio anterior para que sea \"esperanto\"\n"
   ]
  },
  {
   "cell_type": "code",
   "execution_count": 158,
   "metadata": {
    "id": "veNdC-uwRWxJ"
   },
   "outputs": [
    {
     "name": "stdout",
     "output_type": "stream",
     "text": [
      "[{'Título': 'El niño de pijama de rayas', 'Idioma Original': 'English', 'Año de publicación': 2007}, {'Título': 'Padre rico, padre pobre', 'Idioma Original': 'English', 'Año de publicación': 1997}, {'Título': 'El camino del encuentro', 'Idioma Original': 'Español', 'Año de publicación': 2001}, {'Título': 'El dolar', 'Autor': 'Michel Aglietta', 'Idioma Original': 'English', 'Año de publicación': 2015}]\n",
      "Idioma cambiado\n",
      "[{'Título': 'El niño de pijama de rayas', 'Idioma Original': 'Esperanto', 'Año de publicación': 2007}, {'Título': 'Padre rico, padre pobre', 'Idioma Original': 'Esperanto', 'Año de publicación': 1997}, {'Título': 'El camino del encuentro', 'Idioma Original': 'Esperanto', 'Año de publicación': 2001}, {'Título': 'El dolar', 'Autor': 'Michel Aglietta', 'Idioma Original': 'Esperanto', 'Año de publicación': 2015}]\n"
     ]
    }
   ],
   "source": [
    "print(libros_eleccion)\n",
    "\n",
    "for libros in libros_eleccion:\n",
    "    for k in libros.keys():\n",
    "        if k == \"Idioma Original\":\n",
    "            libros[k]= \"Esperanto\"\n",
    "print(\"Idioma cambiado\")\n",
    "print(libros_eleccion)"
   ]
  },
  {
   "cell_type": "markdown",
   "metadata": {
    "id": "DRCJG04KRWxJ"
   },
   "source": [
    "## Ejercicio 9\n",
    "1. Escribe un programa que dada una variable titulo busque los libros que hay en la librería con ese título. Si no se encuentra debe devolver el mensaje `Ese no lo tengo, ¿mola?`\n",
    "2. Pruena que el programa con uno de tus libros y con otro que no contenga tu librería."
   ]
  },
  {
   "cell_type": "code",
   "execution_count": 160,
   "metadata": {
    "id": "eWHdJi9BRWxJ"
   },
   "outputs": [
    {
     "name": "stdout",
     "output_type": "stream",
     "text": [
      "Ya lo tengo!\n",
      "Ese no lo tengo, ¿mola?\n"
     ]
    }
   ],
   "source": [
    "titulo = \"El dolar\"\n",
    "resultado = None\n",
    "\n",
    "for libros in libros_eleccion:\n",
    "    if libros[\"Título\"] == titulo:\n",
    "        resultado = \"Ya lo tengo!\"\n",
    "    else:\n",
    "        resultado = \"Ese no lo tengo, ¿mola?\"\n",
    "\n",
    "print(resultado)\n",
    "\n",
    "# -----------------------------------------------------------------------\n",
    "\n",
    "titulo = \"Don Quijote\"\n",
    "resultado = None\n",
    "\n",
    "for libros in libros_eleccion:\n",
    "    if libros[\"Título\"] == titulo:\n",
    "        resultado = \"Ya lo tengo!\"\n",
    "    else:\n",
    "        resultado = \"Ese no lo tengo, ¿mola?\"\n",
    "\n",
    "print(resultado)"
   ]
  },
  {
   "cell_type": "markdown",
   "metadata": {
    "id": "17YOpYuFRWxJ"
   },
   "source": [
    "## Ejercicio 10\n",
    "Convierte el programa del ejercicio 2 en una función al que se le pase el valor a buscar como un argumento posicional"
   ]
  },
  {
   "cell_type": "code",
   "execution_count": 164,
   "metadata": {
    "id": "xbj0LgvnRWxJ"
   },
   "outputs": [
    {
     "name": "stdout",
     "output_type": "stream",
     "text": [
      "En el índice 0 está la palabra duplicada: Un\n",
      "En el índice 2 está la palabra duplicada: binario\n",
      "En el índice 3 está la palabra duplicada: es\n",
      "En el índice 7 está la palabra duplicada: un\n",
      "En el índice 13 está la palabra duplicada: es\n",
      "En el índice 15 está la palabra duplicada: binario\n"
     ]
    }
   ],
   "source": [
    "ejer_3 = [\"Un\", \"árbol\", \"binario\", \"es\", \"una\", \"estructura\", \"de\", \"un\", \"tipo\", \"particular\", \"a\", \"veces\", \"no\", \"es\", \"ni\", \"binario\"]\n",
    "duplicados = [\"Un\", \"es\", \"binario\"]\n",
    "\n",
    "def lista_duplicados(ejer_3, duplicados):\n",
    "    lista = []\n",
    "    for i, palabra in enumerate(ejer_3):\n",
    "        for dup in duplicados:\n",
    "            if palabra.lower() == dup.lower():\n",
    "                lista.append(f\"En el índice {i} está la palabra duplicada: {palabra}\")\n",
    "    return lista\n",
    "        \n",
    "lista = lista_duplicados(ejer_3, duplicados)\n",
    "\n",
    "for i in lista:\n",
    "    print(i)"
   ]
  },
  {
   "cell_type": "markdown",
   "metadata": {
    "id": "xZ-sWJxPRWxJ"
   },
   "source": [
    "## Ejercicio 11\n",
    "Convierte el programa del ejercicio 9 en una función al que se le pasen como argumentos la librería, posicional, y el título, argumento keyword con valor \"ninguno\", por defecto."
   ]
  },
  {
   "cell_type": "code",
   "execution_count": 180,
   "metadata": {
    "id": "4-JrsMdNRWxK"
   },
   "outputs": [
    {
     "data": {
      "text/plain": [
       "'Ese no lo tengo, ¿mola?'"
      ]
     },
     "execution_count": 180,
     "metadata": {},
     "output_type": "execute_result"
    }
   ],
   "source": [
    "def busca_libros(libreria, titulo = None):\n",
    "    for libros in libreria:\n",
    "        if libros[\"Título\"] == titulo:\n",
    "            resultado = \"Ya lo tengo!\"\n",
    "        else:\n",
    "            resultado = \"Ese no lo tengo, ¿mola?\"\n",
    "    return resultado\n",
    "\n",
    "busca_libros(libros_eleccion, titulo = None)"
   ]
  },
  {
   "cell_type": "markdown",
   "metadata": {
    "id": "FtJir95QRWxK"
   },
   "source": [
    "## Ejercicio 12\n",
    "Solicitar al usuario que ingrese su dirección email. Imprimir un mensaje indicando si la dirección es válida o no, valiéndose de una función para decidirlo. Una dirección se considerará válida si contiene el símbolo \"@\"."
   ]
  },
  {
   "cell_type": "code",
   "execution_count": 186,
   "metadata": {
    "id": "sk852IZ8RWxK"
   },
   "outputs": [
    {
     "name": "stdin",
     "output_type": "stream",
     "text": [
      "Ingrese su correo electrónico carlos@gmail\n"
     ]
    },
    {
     "data": {
      "text/plain": [
       "'Correcto'"
      ]
     },
     "execution_count": 186,
     "metadata": {},
     "output_type": "execute_result"
    }
   ],
   "source": [
    "email = input(\"Ingrese su correo electrónico\")\n",
    "\n",
    "def email_valido(email):\n",
    "    if \"@\" in email:\n",
    "        direccion = \"Correcto\"\n",
    "    else:\n",
    "        direccion = \"Email incorrecto\"\n",
    "\n",
    "    return direccion\n",
    "\n",
    "email_valido(email)"
   ]
  },
  {
   "cell_type": "markdown",
   "metadata": {
    "id": "Kw1MWBwBRWxK"
   },
   "source": [
    "## Ejercicio 13\n",
    "Escribe una función que compruebe si un DNI es válido, devolviendo `True` en caso afirmativo.  \n",
    "En primer lugar, el DNI debe tener entre 7 y 8 dígitos numéricos.  \n",
    "Para saber si la letra del DNI es correcta puedes utilizar el siguiente fragmento de código:\n",
    ">```Python\n",
    ">DNI= 55555555\n",
    ">palabra='TRWAGMYFPDXBNJZSQVHLCKE'\n",
    ">print('La letra del DNI es: ', palabra[DNI%23])\n",
    ">````\n"
   ]
  },
  {
   "cell_type": "code",
   "execution_count": 203,
   "metadata": {
    "id": "F5Z9rSHqRWxK"
   },
   "outputs": [
    {
     "name": "stdout",
     "output_type": "stream",
     "text": [
      "La letra del DNI es:  Q\n"
     ]
    }
   ],
   "source": [
    "DNI= 23822772\n",
    "palabra='TRWAGMYFPDXBNJZSQVHLCKE'\n",
    "print('La letra del DNI es: ', palabra[DNI%23])"
   ]
  },
  {
   "cell_type": "code",
   "execution_count": 204,
   "metadata": {},
   "outputs": [
    {
     "name": "stdout",
     "output_type": "stream",
     "text": [
      "DNI: 23822772 con letra Q . Es correcto\n"
     ]
    }
   ],
   "source": [
    "def dni_valido(dni, palabra):\n",
    "    n_dni = len(str(DNI))\n",
    "    if n_dni == 7 or n_dni == 8:\n",
    "        resto = DNI % 23\n",
    "        print(\"DNI:\",DNI, \"con letra\",palabra[resto],\". Es correcto\")\n",
    "    else:\n",
    "        print(\"DNI Incorrecto\")\n",
    "\n",
    "dni_valido(DNI, palabra)\n",
    "        "
   ]
  },
  {
   "cell_type": "code",
   "execution_count": null,
   "metadata": {},
   "outputs": [],
   "source": []
  }
 ],
 "metadata": {
  "colab": {
   "provenance": []
  },
  "kernelspec": {
   "display_name": "Python 3 (ipykernel)",
   "language": "python",
   "name": "python3"
  },
  "language_info": {
   "codemirror_mode": {
    "name": "ipython",
    "version": 3
   },
   "file_extension": ".py",
   "mimetype": "text/x-python",
   "name": "python",
   "nbconvert_exporter": "python",
   "pygments_lexer": "ipython3",
   "version": "3.12.5"
  }
 },
 "nbformat": 4,
 "nbformat_minor": 4
}
